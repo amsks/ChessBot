{
 "cells": [
  {
   "cell_type": "code",
   "execution_count": 38,
   "metadata": {},
   "outputs": [],
   "source": [
    "import chess\n",
    "import chess.pgn as cp\n",
    "from pgn_parser import pgn, parser"
   ]
  },
  {
   "cell_type": "code",
   "execution_count": 39,
   "metadata": {},
   "outputs": [],
   "source": [
    "file = open(\"Adams.pgn\")"
   ]
  },
  {
   "cell_type": "code",
   "execution_count": 40,
   "metadata": {},
   "outputs": [],
   "source": [
    "first_game = cp.read_game(file)\n",
    "second_game = cp.read_game(file)\n",
    "game = parser.parse(str(second_game.mainline_moves()), actions=pgn.Actions())"
   ]
  },
  {
   "cell_type": "code",
   "execution_count": 41,
   "metadata": {
    "scrolled": true
   },
   "outputs": [
    {
     "name": "stdout",
     "output_type": "stream",
     "text": [
      "1. e4 e6 2. d4 d5 3. Nd2 c5 4. exd5 Qxd5 5. Ngf3 cxd4 6. Bc4 Qd6 7. O-O Nf6 8. Nb3 Nc6 9. Nbxd4 Nxd4 10. Nxd4 a6 11. Nf3 b5 12. Bd3 Bb7 13. a4 Ng4 14. Re1 Qb6 15. Qe2 Bc5 16. Rf1 b4 17. h3 Nf6 18. Bg5 Nh5 19. Be3 Bxe3 20. Qxe3 Qxe3 21. fxe3 Ng3 22. Rfe1 Ne4 23. Ne5 Nc5 24. Bc4 Ke7 25. a5 Rhd8 26. Red1 Rac8 27. b3 Rc7 28. Rxd8 Kxd8 29. Nd3 Nxd3 30. Bxd3 Rc5 31. Ra4 Kc7 32. Kf2 g6 33. g4 Bc6 34. Rxb4 Rxa5 35. Rf4 f5 36. g5 Rd5 37. Rh4 Rd7 38. Bxa6 Rd2+ 39. Ke1 Rxc2 40. Rxh7+ Kd6 41. Bc4 Bd5 42. Rg7 Rh2 43. Rxg6 Rxh3 44. Kd2 Rg3 45. Rg8 Bxc4 46. bxc4 Kc5 47. g6 Kd6 48. c5+ Kc7 49. g7 Kb7 50. c6+\n"
     ]
    }
   ],
   "source": [
    "print(second_game.mainline_moves())"
   ]
  },
  {
   "cell_type": "code",
   "execution_count": 42,
   "metadata": {},
   "outputs": [
    {
     "name": "stdout",
     "output_type": "stream",
     "text": [
      "['e2e4', 'e7e6', 'd2d4', 'd7d5', 'b1d2', 'c7c5', 'e4d5', 'd8d5', 'g1f3', 'c5d4', 'f1c4', 'd5d6', 'e1g1', 'g8f6', 'd2b3', 'b8c6', 'b3d4', 'c6d4', 'f3d4', 'a7a6', 'd4f3', 'b7b5', 'c4d3', 'c8b7', 'a2a4', 'f6g4', 'f1e1', 'd6b6', 'd1e2', 'f8c5', 'e1f1', 'b5b4', 'h2h3', 'g4f6', 'c1g5', 'f6h5', 'g5e3', 'c5e3', 'e2e3', 'b6e3', 'f2e3', 'h5g3', 'f1e1', 'g3e4', 'f3e5', 'e4c5', 'd3c4', 'e8e7', 'a4a5', 'h8d8', 'e1d1', 'a8c8', 'b2b3', 'c8c7', 'd1d8', 'e7d8', 'e5d3', 'c5d3', 'c4d3', 'c7c5', 'a1a4', 'd8c7', 'g1f2', 'g7g6', 'g2g4', 'b7c6', 'a4b4', 'c5a5', 'b4f4', 'f7f5', 'g4g5', 'a5d5', 'f4h4', 'd5d7', 'd3a6', 'd7d2', 'f2e1', 'd2c2', 'h4h7', 'c7d6', 'a6c4', 'c6d5', 'h7g7', 'c2h2', 'g7g6', 'h2h3', 'e1d2', 'h3g3', 'g6g8', 'd5c4', 'b3c4', 'd6c5', 'g5g6', 'c5d6', 'c4c5', 'd6c7', 'g6g7', 'c7b7', 'c5c6']\n"
     ]
    }
   ],
   "source": [
    "def check_odd ( x ):\n",
    "    if x % 2 == 0:\n",
    "        return False\n",
    "    else:\n",
    "        return True\n",
    "\n",
    "moves = []\n",
    "moves_assoc = []\n",
    "\n",
    "\n",
    "\n",
    "for move in second_game.mainline_moves():\n",
    "    moves.append(str(move))\n",
    "\n",
    "\n",
    "# for item in range(0, len(moves) - 1, 2):\n",
    "#     moves_assoc.append({ 'white': moves[item], 'black': moves[item + 1] } )\n",
    "    \n",
    "# if check_odd(len(moves)):\n",
    "#     moves_assoc.append({'white':moves[-1], 'Black': 'Checkmate'})\n",
    "\n",
    "counter = 1\n",
    "\n",
    "for item in range(0, len(moves)):\n",
    "    # Black will be at odd positions starting from 1\n",
    "    if check_odd(item):\n",
    "        moves_assoc.append({ 'From': (moves[item][0] + moves[item][1]), 'To': (moves[item][2] + moves[item][3]), 'Color': 'Black', 'PGN': str(game.move(counter).black) } )\n",
    "        counter = counter + 1\n",
    "    \n",
    "    #White will be at even positions starting from 0\n",
    "    else:\n",
    "        moves_assoc.append({ 'From': (moves[item][0] + moves[item][1]), 'To': (moves[item][2] + moves[item][3]), 'Color': 'White', 'PGN': str(game.move(counter).white) } )\n",
    "\n",
    "        \n",
    "print( moves )"
   ]
  },
  {
   "cell_type": "code",
   "execution_count": 43,
   "metadata": {},
   "outputs": [],
   "source": [
    "class piece_move():    \n",
    "    def __init__(self, name, position):\n",
    "        self.name = name\n",
    "        self.position = position\n",
    "        \n",
    "\n",
    "piece_names = ['R0', 'N1', 'B2', 'Q3', 'K4', 'B5', 'N6', 'R7', 'P8', 'P9', 'P10', 'P11', 'P12', 'P13', 'P14', 'P15', 'p48', 'p49', 'p50', 'p51', 'p52', 'p53', 'p54', 'p55', 'r56', 'n57', 'b58', 'q59', 'k60', 'b61', 'n62', 'r63' ]\n",
    "\n",
    "positions = ['a1', 'b1', 'c1', 'd1', 'e1', 'f1', 'g1', 'h1', \n",
    "             'a2', 'b2', 'c2', 'd2', 'e2', 'f2', 'g2', 'h2',  \n",
    "             'a7', 'b7', 'c7', 'd7', 'e7', 'f7', 'g7', 'h7', \n",
    "             'a8', 'b8', 'c8', 'd8', 'e8', 'f8', 'g8', 'h8' \n",
    "            ]\n",
    "\n",
    "State = []\n",
    "\n",
    "\n",
    "#Setup the pieces\n",
    "for i in range(0,len(piece_names)):\n",
    "    State.append(piece_move(piece_names[i], positions[i]))\n",
    "    \n",
    "def err_print():\n",
    "    print(\"Error!\")\n",
    "    \n",
    "#Function to get\n",
    "def get_piece_index(position):\n",
    "    for i in range(0,len(State)):\n",
    "        if State[i].position == position:\n",
    "            return i\n",
    "        \n",
    "        else:\n",
    "            pass\n",
    "\n",
    "\n",
    "def reset():\n",
    "    for i in range(0,len(State)):\n",
    "        State[i].position = positions[i]\n",
    "    "
   ]
  },
  {
   "cell_type": "code",
   "execution_count": 44,
   "metadata": {},
   "outputs": [
    {
     "name": "stdout",
     "output_type": "stream",
     "text": [
      "P12,e2\n",
      "P12,e2\n",
      "P12,e4\n"
     ]
    }
   ],
   "source": [
    "## Experimentation\n",
    "'''\n",
    "    -> moves_assoc is a list of dictionarires, each containing the following element\n",
    "    {\n",
    "        'From' : Current Position of the piece\n",
    "        'To'   : The Next position of the piece \n",
    "        'PGN'  : The PGN equivalent of the move that requires a piece at 'From' to go to 'To'\n",
    "    }\n",
    "    \n",
    "    -> A game is bascially the successive From and To elements of the moves_assoc list\n",
    "    \n",
    "    -> State is a a list that contains objects of class piece_move(), each having a name according to the pieces.g\n",
    "    and position on the board as a name of a square. \n",
    "    \n",
    "    -> get_piece_index() is a function that takes a position as an argument and outputs the index of the Piece in \n",
    "    State\n",
    "    \n",
    "    -> reset() sets the position of the State array to the initial one\n",
    "    \n",
    "    -> Thus, to play a PGN game:\n",
    "        1. parse the moves_assoc dictionary and at each iteration, extract the piece name by passing the 'From' \n",
    "        attribute of the current entry to the get_piece_index() and using the returned index to access the element \n",
    "        of the State array\n",
    "        2. Update the postion of the extracted element of State by assigning it the value of the 'To' attribute of\n",
    "        the current moves_assoc entry\n",
    "'''\n",
    "\n",
    "\n",
    "reset()\n",
    "\n",
    "x = get_piece_index('e2')\n",
    "print(State[x].name + \",\" + State[x].position)\n",
    "\n",
    "x = get_piece_index(moves_assoc[0]['From'])\n",
    "\n",
    "print(State[x].name + \",\" + State[x].position)\n",
    "    \n",
    "State[x].position = moves_assoc[0]['To']\n",
    "\n",
    "print(State[x].name + \",\" + State[x].position)"
   ]
  }
 ],
 "metadata": {
  "kernelspec": {
   "display_name": "Python 3",
   "language": "python",
   "name": "python3"
  },
  "language_info": {
   "codemirror_mode": {
    "name": "ipython",
    "version": 3
   },
   "file_extension": ".py",
   "mimetype": "text/x-python",
   "name": "python",
   "nbconvert_exporter": "python",
   "pygments_lexer": "ipython3",
   "version": "3.6.9"
  }
 },
 "nbformat": 4,
 "nbformat_minor": 2
}
