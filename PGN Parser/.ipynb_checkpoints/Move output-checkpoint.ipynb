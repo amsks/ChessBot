{
 "cells": [
  {
   "cell_type": "code",
   "execution_count": 1,
   "metadata": {},
   "outputs": [],
   "source": [
    "import chess.pgn as cp\n",
    "from pgn_parser import pgn, parser"
   ]
  },
  {
   "cell_type": "code",
   "execution_count": 2,
   "metadata": {},
   "outputs": [],
   "source": [
    "file = open(\"Adams.pgn\")"
   ]
  },
  {
   "cell_type": "code",
   "execution_count": 3,
   "metadata": {},
   "outputs": [],
   "source": [
    "first_game = cp.read_game(file)\n",
    "\n",
    "game = parser.parse(str(first_game.mainline_moves()), actions=pgn.Actions())"
   ]
  },
  {
   "cell_type": "code",
   "execution_count": 4,
   "metadata": {
    "scrolled": false
   },
   "outputs": [
    {
     "name": "stdout",
     "output_type": "stream",
     "text": [
      "1. e4 e6 2. d4 d5 3. Nd2 Nf6 4. e5 Nfd7 5. f4 c5 6. c3 Nc6 7. Ndf3 cxd4 8. cxd4 f6 9. Bd3 Bb4+ 10. Bd2 Qb6 11. Ne2 fxe5 12. fxe5 O-O 13. a3 Be7 14. Qc2 Rxf3 15. gxf3 Nxd4 16. Nxd4 Qxd4 17. O-O-O Nxe5 18. Bxh7+ Kh8 19. Kb1 Qh4 20. Bc3 Bf6 21. f4 Nc4 22. Bxf6 Qxf6 23. Bd3 b5 24. Qe2 Bd7 25. Rhg1 Be8 26. Rde1 Bf7 27. Rg3 Rc8 28. Reg1 Nd6 29. Rxg7 Nf5 30. R7g5 Rc7 31. Bxf5 exf5 32. Rh5+\n"
     ]
    }
   ],
   "source": [
    "print(first_game.mainline_moves())\n",
    "\n"
   ]
  },
  {
   "cell_type": "code",
   "execution_count": 6,
   "metadata": {},
   "outputs": [
    {
     "name": "stdout",
     "output_type": "stream",
     "text": [
      "[{'Move': 'e2e4', 'Color': 'White', 'PGN': 'e4'}, {'Move': 'e7e6', 'Color': 'Black', 'PGN': 'e6'}, {'Move': 'd2d4', 'Color': 'White', 'PGN': 'd4'}, {'Move': 'd7d5', 'Color': 'Black', 'PGN': 'd5'}, {'Move': 'b1d2', 'Color': 'White', 'PGN': 'Nd2'}, {'Move': 'g8f6', 'Color': 'Black', 'PGN': 'Nf6'}, {'Move': 'e4e5', 'Color': 'White', 'PGN': 'e5'}, {'Move': 'f6d7', 'Color': 'Black', 'PGN': 'Nfd7'}, {'Move': 'f2f4', 'Color': 'White', 'PGN': 'f4'}, {'Move': 'c7c5', 'Color': 'Black', 'PGN': 'c5'}, {'Move': 'c2c3', 'Color': 'White', 'PGN': 'c3'}, {'Move': 'b8c6', 'Color': 'Black', 'PGN': 'Nc6'}, {'Move': 'd2f3', 'Color': 'White', 'PGN': 'Ndf3'}, {'Move': 'c5d4', 'Color': 'Black', 'PGN': 'cxd4'}, {'Move': 'c3d4', 'Color': 'White', 'PGN': 'cxd4'}, {'Move': 'f7f6', 'Color': 'Black', 'PGN': 'f6'}, {'Move': 'f1d3', 'Color': 'White', 'PGN': 'Bd3'}, {'Move': 'f8b4', 'Color': 'Black', 'PGN': 'Bb4+'}, {'Move': 'c1d2', 'Color': 'White', 'PGN': 'Bd2'}, {'Move': 'd8b6', 'Color': 'Black', 'PGN': 'Qb6'}, {'Move': 'g1e2', 'Color': 'White', 'PGN': 'Ne2'}, {'Move': 'f6e5', 'Color': 'Black', 'PGN': 'fxe5'}, {'Move': 'f4e5', 'Color': 'White', 'PGN': 'fxe5'}, {'Move': 'e8g8', 'Color': 'Black', 'PGN': 'O-O'}, {'Move': 'a2a3', 'Color': 'White', 'PGN': 'a3'}, {'Move': 'b4e7', 'Color': 'Black', 'PGN': 'Be7'}, {'Move': 'd1c2', 'Color': 'White', 'PGN': 'Qc2'}, {'Move': 'f8f3', 'Color': 'Black', 'PGN': 'Rxf3'}, {'Move': 'g2f3', 'Color': 'White', 'PGN': 'gxf3'}, {'Move': 'c6d4', 'Color': 'Black', 'PGN': 'Nxd4'}, {'Move': 'e2d4', 'Color': 'White', 'PGN': 'Nxd4'}, {'Move': 'b6d4', 'Color': 'Black', 'PGN': 'Qxd4'}, {'Move': 'e1c1', 'Color': 'White', 'PGN': 'O-O-O'}, {'Move': 'd7e5', 'Color': 'Black', 'PGN': 'Nxe5'}, {'Move': 'd3h7', 'Color': 'White', 'PGN': 'Bxh7+'}, {'Move': 'g8h8', 'Color': 'Black', 'PGN': 'Kh8'}, {'Move': 'c1b1', 'Color': 'White', 'PGN': 'Kb1'}, {'Move': 'd4h4', 'Color': 'Black', 'PGN': 'Qh4'}, {'Move': 'd2c3', 'Color': 'White', 'PGN': 'Bc3'}, {'Move': 'e7f6', 'Color': 'Black', 'PGN': 'Bf6'}, {'Move': 'f3f4', 'Color': 'White', 'PGN': 'f4'}, {'Move': 'e5c4', 'Color': 'Black', 'PGN': 'Nc4'}, {'Move': 'c3f6', 'Color': 'White', 'PGN': 'Bxf6'}, {'Move': 'h4f6', 'Color': 'Black', 'PGN': 'Qxf6'}, {'Move': 'h7d3', 'Color': 'White', 'PGN': 'Bd3'}, {'Move': 'b7b5', 'Color': 'Black', 'PGN': 'b5'}, {'Move': 'c2e2', 'Color': 'White', 'PGN': 'Qe2'}, {'Move': 'c8d7', 'Color': 'Black', 'PGN': 'Bd7'}, {'Move': 'h1g1', 'Color': 'White', 'PGN': 'Rhg1'}, {'Move': 'd7e8', 'Color': 'Black', 'PGN': 'Be8'}, {'Move': 'd1e1', 'Color': 'White', 'PGN': 'Rde1'}, {'Move': 'e8f7', 'Color': 'Black', 'PGN': 'Bf7'}, {'Move': 'g1g3', 'Color': 'White', 'PGN': 'Rg3'}, {'Move': 'a8c8', 'Color': 'Black', 'PGN': 'Rc8'}, {'Move': 'e1g1', 'Color': 'White', 'PGN': 'Reg1'}, {'Move': 'c4d6', 'Color': 'Black', 'PGN': 'Nd6'}, {'Move': 'g3g7', 'Color': 'White', 'PGN': 'Rxg7'}, {'Move': 'd6f5', 'Color': 'Black', 'PGN': 'Nf5'}, {'Move': 'g7g5', 'Color': 'White', 'PGN': 'R7g5'}, {'Move': 'c8c7', 'Color': 'Black', 'PGN': 'Rc7'}, {'Move': 'd3f5', 'Color': 'White', 'PGN': 'Bxf5'}, {'Move': 'e6f5', 'Color': 'Black', 'PGN': 'exf5'}, {'Move': 'g5h5', 'Color': 'White', 'PGN': 'Rh5+'}]\n"
     ]
    }
   ],
   "source": [
    "def check_odd ( x ):\n",
    "    if x % 2 == 0:\n",
    "        return False\n",
    "    else:\n",
    "        return True\n",
    "\n",
    "moves = []\n",
    "moves_assoc = []\n",
    "\n",
    "\n",
    "\n",
    "for move in first_game.mainline_moves():\n",
    "    moves.append(str(move))\n",
    "\n",
    "\n",
    "# for item in range(0, len(moves) - 1, 2):\n",
    "#     moves_assoc.append({ 'white': moves[item], 'black': moves[item + 1] } )\n",
    "    \n",
    "# if check_odd(len(moves)):\n",
    "#     moves_assoc.append({'white':moves[-1], 'Black': 'Checkmate'})\n",
    "\n",
    "counter = 1\n",
    "\n",
    "for item in range(0, len(moves)):\n",
    "    # Black will be at odd positions starting from 1\n",
    "    if check_odd(item):\n",
    "        moves_assoc.append({ 'Move': moves[item], 'Color': 'Black', 'PGN': str(game.move(counter).black) } )\n",
    "        counter = counter + 1\n",
    "    \n",
    "    #White will be at even positions starting from 0\n",
    "    else:\n",
    "        moves_assoc.append({ 'Move': moves[item], 'Color': 'White', 'PGN': str(game.move(counter).white) } )\n",
    "\n",
    "        \n",
    "print( moves_assoc )"
   ]
  },
  {
   "cell_type": "code",
   "execution_count": 11,
   "metadata": {},
   "outputs": [
    {
     "name": "stdout",
     "output_type": "stream",
     "text": [
      "[{'Move': 'e2e4', 'Color': 'White', 'PGN': 'e4', 'Piece': 'Pawn'}, {'Move': 'e7e6', 'Color': 'Black', 'PGN': 'e6', 'Piece': 'Pawn'}, {'Move': 'd2d4', 'Color': 'White', 'PGN': 'd4', 'Piece': 'Pawn'}, {'Move': 'd7d5', 'Color': 'Black', 'PGN': 'd5', 'Piece': 'Pawn'}, {'Move': 'b1d2', 'Color': 'White', 'PGN': 'Nd2', 'Piece': 'Knight'}, {'Move': 'g8f6', 'Color': 'Black', 'PGN': 'Nf6', 'Piece': 'Knight'}, {'Move': 'e4e5', 'Color': 'White', 'PGN': 'e5', 'Piece': 'Pawn'}, {'Move': 'f6d7', 'Color': 'Black', 'PGN': 'Nfd7', 'Piece': 'Knight'}, {'Move': 'f2f4', 'Color': 'White', 'PGN': 'f4', 'Piece': 'Pawn'}, {'Move': 'c7c5', 'Color': 'Black', 'PGN': 'c5', 'Piece': 'Pawn'}, {'Move': 'c2c3', 'Color': 'White', 'PGN': 'c3', 'Piece': 'Pawn'}, {'Move': 'b8c6', 'Color': 'Black', 'PGN': 'Nc6', 'Piece': 'Knight'}, {'Move': 'd2f3', 'Color': 'White', 'PGN': 'Ndf3', 'Piece': 'Knight'}, {'Move': 'c5d4', 'Color': 'Black', 'PGN': 'cxd4', 'Piece': 'Pawn'}, {'Move': 'c3d4', 'Color': 'White', 'PGN': 'cxd4', 'Piece': 'Pawn'}, {'Move': 'f7f6', 'Color': 'Black', 'PGN': 'f6', 'Piece': 'Pawn'}, {'Move': 'f1d3', 'Color': 'White', 'PGN': 'Bd3', 'Piece': 'Bishop'}, {'Move': 'f8b4', 'Color': 'Black', 'PGN': 'Bb4+', 'Piece': 'Bishop'}, {'Move': 'c1d2', 'Color': 'White', 'PGN': 'Bd2', 'Piece': 'Bishop'}, {'Move': 'd8b6', 'Color': 'Black', 'PGN': 'Qb6', 'Piece': 'Queen'}, {'Move': 'g1e2', 'Color': 'White', 'PGN': 'Ne2', 'Piece': 'Knight'}, {'Move': 'f6e5', 'Color': 'Black', 'PGN': 'fxe5', 'Piece': 'Pawn'}, {'Move': 'f4e5', 'Color': 'White', 'PGN': 'fxe5', 'Piece': 'Pawn'}, {'Move': 'e8g8', 'Color': 'Black', 'PGN': 'O-O', 'Piece': 'Pawn'}, {'Move': 'a2a3', 'Color': 'White', 'PGN': 'a3', 'Piece': 'Pawn'}, {'Move': 'b4e7', 'Color': 'Black', 'PGN': 'Be7', 'Piece': 'Bishop'}, {'Move': 'd1c2', 'Color': 'White', 'PGN': 'Qc2', 'Piece': 'Queen'}, {'Move': 'f8f3', 'Color': 'Black', 'PGN': 'Rxf3', 'Piece': 'Rook'}, {'Move': 'g2f3', 'Color': 'White', 'PGN': 'gxf3', 'Piece': 'Pawn'}, {'Move': 'c6d4', 'Color': 'Black', 'PGN': 'Nxd4', 'Piece': 'Knight'}, {'Move': 'e2d4', 'Color': 'White', 'PGN': 'Nxd4', 'Piece': 'Knight'}, {'Move': 'b6d4', 'Color': 'Black', 'PGN': 'Qxd4', 'Piece': 'Queen'}, {'Move': 'e1c1', 'Color': 'White', 'PGN': 'O-O-O', 'Piece': 'Pawn'}, {'Move': 'd7e5', 'Color': 'Black', 'PGN': 'Nxe5', 'Piece': 'Knight'}, {'Move': 'd3h7', 'Color': 'White', 'PGN': 'Bxh7+', 'Piece': 'Bishop'}, {'Move': 'g8h8', 'Color': 'Black', 'PGN': 'Kh8', 'Piece': 'King'}, {'Move': 'c1b1', 'Color': 'White', 'PGN': 'Kb1', 'Piece': 'King'}, {'Move': 'd4h4', 'Color': 'Black', 'PGN': 'Qh4', 'Piece': 'Queen'}, {'Move': 'd2c3', 'Color': 'White', 'PGN': 'Bc3', 'Piece': 'Bishop'}, {'Move': 'e7f6', 'Color': 'Black', 'PGN': 'Bf6', 'Piece': 'Bishop'}, {'Move': 'f3f4', 'Color': 'White', 'PGN': 'f4', 'Piece': 'Pawn'}, {'Move': 'e5c4', 'Color': 'Black', 'PGN': 'Nc4', 'Piece': 'Knight'}, {'Move': 'c3f6', 'Color': 'White', 'PGN': 'Bxf6', 'Piece': 'Bishop'}, {'Move': 'h4f6', 'Color': 'Black', 'PGN': 'Qxf6', 'Piece': 'Queen'}, {'Move': 'h7d3', 'Color': 'White', 'PGN': 'Bd3', 'Piece': 'Bishop'}, {'Move': 'b7b5', 'Color': 'Black', 'PGN': 'b5', 'Piece': 'Pawn'}, {'Move': 'c2e2', 'Color': 'White', 'PGN': 'Qe2', 'Piece': 'Queen'}, {'Move': 'c8d7', 'Color': 'Black', 'PGN': 'Bd7', 'Piece': 'Bishop'}, {'Move': 'h1g1', 'Color': 'White', 'PGN': 'Rhg1', 'Piece': 'Rook'}, {'Move': 'd7e8', 'Color': 'Black', 'PGN': 'Be8', 'Piece': 'Bishop'}, {'Move': 'd1e1', 'Color': 'White', 'PGN': 'Rde1', 'Piece': 'Rook'}, {'Move': 'e8f7', 'Color': 'Black', 'PGN': 'Bf7', 'Piece': 'Bishop'}, {'Move': 'g1g3', 'Color': 'White', 'PGN': 'Rg3', 'Piece': 'Rook'}, {'Move': 'a8c8', 'Color': 'Black', 'PGN': 'Rc8', 'Piece': 'Rook'}, {'Move': 'e1g1', 'Color': 'White', 'PGN': 'Reg1', 'Piece': 'Rook'}, {'Move': 'c4d6', 'Color': 'Black', 'PGN': 'Nd6', 'Piece': 'Knight'}, {'Move': 'g3g7', 'Color': 'White', 'PGN': 'Rxg7', 'Piece': 'Rook'}, {'Move': 'd6f5', 'Color': 'Black', 'PGN': 'Nf5', 'Piece': 'Knight'}, {'Move': 'g7g5', 'Color': 'White', 'PGN': 'R7g5', 'Piece': 'Rook'}, {'Move': 'c8c7', 'Color': 'Black', 'PGN': 'Rc7', 'Piece': 'Rook'}, {'Move': 'd3f5', 'Color': 'White', 'PGN': 'Bxf5', 'Piece': 'Bishop'}, {'Move': 'e6f5', 'Color': 'Black', 'PGN': 'exf5', 'Piece': 'Pawn'}, {'Move': 'g5h5', 'Color': 'White', 'PGN': 'Rh5+'}]\n"
     ]
    }
   ],
   "source": [
    "# TODO:\n",
    "# dictionary: \n",
    "#  { \n",
    "#    piece: \"Name of the Piece\" \n",
    "#    color: \"Color of the piece\"\n",
    "#    Move : \" FromTo\"\n",
    "#  }\n",
    "\n",
    "\n",
    "pieces = ['pawn', 'rook', 'knight', 'bishop', 'king', 'queen']\n",
    "\n",
    "#Adding information of Pieces to the array\n",
    "\n",
    "for i in range(0, len(moves_assoc)-1):\n",
    "    if moves_assoc[i]['PGN'][0] == 'N':\n",
    "        moves_assoc[i]['Piece'] = 'Knight'\n",
    "    \n",
    "    elif moves_assoc[i]['PGN'][0] == 'K':\n",
    "        moves_assoc[i]['Piece'] = 'King'\n",
    "    \n",
    "    elif moves_assoc[i]['PGN'][0] == 'Q':\n",
    "        moves_assoc[i]['Piece'] = 'Queen'\n",
    "    \n",
    "    elif moves_assoc[i]['PGN'][0] == 'B':\n",
    "        moves_assoc[i]['Piece'] = 'Bishop'\n",
    "        \n",
    "    elif moves_assoc[i]['PGN'][0] == 'R':\n",
    "        moves_assoc[i]['Piece'] = 'Rook'\n",
    "    \n",
    "    else:\n",
    "        moves_assoc[i]['Piece'] = 'Pawn'\n",
    "\n",
    "print(moves_assoc)"
   ]
  },
  {
   "cell_type": "code",
   "execution_count": null,
   "metadata": {},
   "outputs": [],
   "source": []
  }
 ],
 "metadata": {
  "kernelspec": {
   "display_name": "Python 3",
   "language": "python",
   "name": "python3"
  },
  "language_info": {
   "codemirror_mode": {
    "name": "ipython",
    "version": 3
   },
   "file_extension": ".py",
   "mimetype": "text/x-python",
   "name": "python",
   "nbconvert_exporter": "python",
   "pygments_lexer": "ipython3",
   "version": "3.6.9"
  }
 },
 "nbformat": 4,
 "nbformat_minor": 2
}
