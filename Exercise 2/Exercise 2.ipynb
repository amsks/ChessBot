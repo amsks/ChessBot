{
 "cells": [
  {
   "cell_type": "markdown",
   "metadata": {},
   "source": [
    "## Exercise 2 : Motion Generation using Optimization"
   ]
  },
  {
   "cell_type": "code",
   "execution_count": 1,
   "metadata": {},
   "outputs": [],
   "source": [
    "import sys\n",
    "sys.path.append('../../build')\n",
    "import libry as ry\n",
    "import numpy as np\n",
    "import time"
   ]
  },
  {
   "cell_type": "code",
   "execution_count": 2,
   "metadata": {},
   "outputs": [],
   "source": [
    "C = ry.Config()\n",
    "C.addFile(\"../../scenarios/pandasTable.g\")\n",
    "\n",
    "V = ry.ConfigurationViewer()\n",
    "V.setConfiguration(C)\n",
    "\n",
    "X0 = C.getFrameState()\n",
    "q0 = C.getJointState()"
   ]
  },
  {
   "cell_type": "code",
   "execution_count": 3,
   "metadata": {},
   "outputs": [],
   "source": [
    "R_gripper = C.frame(\"R_gripper\")\n",
    "R_gripper.setContact(1)\n",
    "L_gripper = C.frame(\"L_gripper\")\n",
    "L_gripper.setContact(1)\n",
    "R_gripper_center = C.frame(\"R_gripperCenter\")\n",
    "L_gripper_center = C.frame(\"L_gripperCenter\")"
   ]
  },
  {
   "cell_type": "markdown",
   "metadata": {},
   "source": [
    "## Task 1 "
   ]
  },
  {
   "cell_type": "markdown",
   "metadata": {},
   "source": [
    "a) Compute a 2-arm robot configuration, where the graspCenter positions of both hands coincide, the two hands oppose, and their x-axes are orthogonal."
   ]
  },
  {
   "cell_type": "code",
   "execution_count": 4,
   "metadata": {},
   "outputs": [],
   "source": [
    "# Robo-Romance\n",
    "C.setFrameState(X0)\n",
    "IK = C.komo_IK(False)\n",
    "IK.addObjective(type=ry.OT.eq, feature=ry.FS.positionDiff, frames=['L_gripperCenter', 'R_gripperCenter'])\n",
    "IK.addObjective(type=ry.OT.eq, feature=ry.FS.scalarProductXX, frames=['L_gripperCenter', 'R_gripperCenter'])\n",
    "IK.addObjective(type=ry.OT.eq, feature=ry.FS.scalarProductZZ, frames=['L_gripperCenter', 'R_gripperCenter'], target=[-1])\n",
    "\n",
    "IK.optimize(True)\n",
    "C.setFrameState( IK.getConfiguration(0) )\n",
    "V.setConfiguration(C)\n",
    "\n",
    "X1 = C.getFrameState()"
   ]
  },
  {
   "cell_type": "code",
   "execution_count": 5,
   "metadata": {},
   "outputs": [],
   "source": [
    "C.setFrameState( IK.getConfiguration(0) )\n",
    "q1 = C.getJointState()"
   ]
  },
  {
   "cell_type": "markdown",
   "metadata": {},
   "source": [
    "b) Add a box somewhere to the scene, compute a robot configuration where one of the grippers grasps the box, while avoiding collisions between the box and the two fingers and gripper."
   ]
  },
  {
   "cell_type": "code",
   "execution_count": 6,
   "metadata": {},
   "outputs": [],
   "source": [
    "#Reset Frames\n",
    "C.setFrameState(X0)\n",
    "V.setConfiguration(C)"
   ]
  },
  {
   "cell_type": "code",
   "execution_count": 15,
   "metadata": {},
   "outputs": [],
   "source": [
    "# Add a Cube\n",
    "\n",
    "obj = C.addFrame(\"object\")\n",
    "# obj.setPosition([0.004, -0.52, 1.5])\n",
    "\n",
    "obj.setPosition([.8,0,1.5])\n",
    "obj.setQuaternion([1,0,.5,0])\n",
    "obj.setShape(ry.ST.ssBox, [.05,.05,.05,0.01])\n",
    "obj.setColor([1,0,1])\n",
    "\n",
    "V.setConfiguration(C)"
   ]
  },
  {
   "cell_type": "code",
   "execution_count": 98,
   "metadata": {},
   "outputs": [],
   "source": [
    "# Grasping the box \n",
    "# C.setFrameState(X0)\n",
    "IK = C.komo_IK(False)\n",
    "\n",
    "IK.addObjective(type=ry.OT.eq, feature=ry.FS.positionDiff, frames=['R_gripperCenter', 'object'])\n",
    "IK.addObjective(type=ry.OT.eq,  feature=ry.FS.scalarProductXX, frames=['R_gripperCenter', 'object'])\n",
    "IK.addObjective(type=ry.OT.eq,  feature=ry.FS.scalarProductYY, frames=['R_gripperCenter', 'object'])\n",
    "IK.addObjective(type=ry.OT.eq,  feature=ry.FS.scalarProductZZ, frames=['R_gripperCenter', 'object'])\n",
    "\n",
    "IK.optimize(True)\n",
    "\n",
    "C.setFrameState( IK.getConfiguration(0) )\n",
    "V.setConfiguration(C)"
   ]
  },
  {
   "cell_type": "code",
   "execution_count": 101,
   "metadata": {},
   "outputs": [
    {
     "data": {
      "text/plain": [
       "[]"
      ]
     },
     "execution_count": 101,
     "metadata": {},
     "output_type": "execute_result"
    }
   ],
   "source": [
    "#Check for  collisions\n",
    "coll = C.feature(ry.FS.accumulatedCollisions, [])\n",
    "\n",
    "C.computeCollisions()\n",
    "C.getCollisions()"
   ]
  },
  {
   "cell_type": "code",
   "execution_count": 100,
   "metadata": {},
   "outputs": [],
   "source": [
    "C.setFrameState(X0)\n",
    "V.setConfiguration(C)"
   ]
  },
  {
   "cell_type": "markdown",
   "metadata": {},
   "source": [
    "## Task 2"
   ]
  },
  {
   "cell_type": "markdown",
   "metadata": {},
   "source": [
    "a, b) Joint-Space trajectory planning using sine profiles "
   ]
  },
  {
   "cell_type": "code",
   "execution_count": 7,
   "metadata": {},
   "outputs": [],
   "source": [
    "RealWorld = ry.Config()\n",
    "RealWorld.addFile(\"../../scenarios/pandasTable.g\")\n",
    "S = RealWorld.simulation(ry.SimulatorEngine.physx, True)\n",
    "S.addSensor(\"camera\")"
   ]
  },
  {
   "cell_type": "code",
   "execution_count": 8,
   "metadata": {},
   "outputs": [],
   "source": [
    "tau = .01\n",
    "\n",
    "q = S.get_q()\n",
    "T = 200 \n",
    "\n",
    "diff = q1 - q0\n",
    "\n",
    "for t in range(T):\n",
    "    time.sleep(0.01)\n",
    "    \n",
    "    q = q0 + 0.5*diff*(1 - np.cos(np.pi*t/T))\n",
    "    \n",
    "    S.step(q, tau, ry.ControlMode.position) "
   ]
  },
  {
   "cell_type": "code",
   "execution_count": 9,
   "metadata": {},
   "outputs": [],
   "source": [
    "S = 0"
   ]
  },
  {
   "cell_type": "markdown",
   "metadata": {},
   "source": [
    "c) Use KOMO to compute an optimal path from start to goal. We have the SOS objective of minimizing sum of square accelerations, and the EQ objective on qItself to constrain the final configuration q1 "
   ]
  },
  {
   "cell_type": "code",
   "execution_count": 12,
   "metadata": {},
   "outputs": [],
   "source": [
    "#computingkomo a smooth path for komoh\n",
    "\n",
    "komo = C.komo_path(phases=1., stepsPerPhase=20, timePerPhase=5., useSwift=True);\n",
    "\n",
    "komo.addObjective([], ry.FS.accumulatedCollisions, [], ry.OT.eq);\n",
    "komo.addObjective([], ry.FS.jointLimits, [], ry.OT.ineq);\n",
    "komo.addObjective([1.], ry.FS.qItself, [], ry.OT.eq, [1.], order = 1)\n",
    "\n",
    "komo.addObjective(time=[1.],type=ry.OT.eq, feature=ry.FS.positionDiff, frames=['L_gripperCenter', 'R_gripperCenter'], scale=[2e0])\n",
    "komo.addObjective(time=[1.],type=ry.OT.eq, feature=ry.FS.scalarProductXX, frames=['L_gripperCenter', 'R_gripperCenter'], scale=[2e0])\n",
    "komo.addObjective(time=[1.],type=ry.OT.eq, feature=ry.FS.scalarProductZZ, frames=['L_gripperCenter', 'R_gripperCenter'], target=[-1], scale=[2e0])\n",
    "komo.optimize()\n",
    "# komo.getReport()\n"
   ]
  },
  {
   "cell_type": "code",
   "execution_count": 13,
   "metadata": {},
   "outputs": [],
   "source": [
    "V2 = komo.view()\n",
    "V2.playVideo()"
   ]
  },
  {
   "cell_type": "code",
   "execution_count": 14,
   "metadata": {},
   "outputs": [],
   "source": [
    "#Reset values\n",
    "V2 = 0\n",
    "C.setFrameState(X0)\n",
    "V.setConfiguration(C)"
   ]
  },
  {
   "cell_type": "markdown",
   "metadata": {},
   "source": [
    "d) Grasping using simulation"
   ]
  },
  {
   "cell_type": "code",
   "execution_count": 16,
   "metadata": {},
   "outputs": [],
   "source": [
    "#add an obstacle\n",
    "obs = C.addFrame(\"object1\")\n",
    "obs.setPosition([.7, -.2, 1.6])\n",
    "obs.setQuaternion([1,0,.5,0])\n",
    "obs.setShape(ry.ST.ssBox, [.1,.1,.1,0.01])\n",
    "# obs.setColor([1,0,1])\n",
    "obs.setContact(1)\n",
    "\n",
    "V.setConfiguration(C)"
   ]
  },
  {
   "cell_type": "code",
   "execution_count": 18,
   "metadata": {},
   "outputs": [
    {
     "ename": "RuntimeError",
     "evalue": "/home/mclovin/git/robotics-course/rai/rai/Geo/pairCollision.cpp:libccd:259(-2) simplex types 4 4 not handled",
     "output_type": "error",
     "traceback": [
      "\u001b[0;31m---------------------------------------------------------------------------\u001b[0m",
      "\u001b[0;31mRuntimeError\u001b[0m                              Traceback (most recent call last)",
      "\u001b[0;32m<ipython-input-18-825a5da68c3c>\u001b[0m in \u001b[0;36m<module>\u001b[0;34m()\u001b[0m\n\u001b[1;32m     12\u001b[0m \u001b[0mkomo\u001b[0m\u001b[0;34m.\u001b[0m\u001b[0maddObjective\u001b[0m\u001b[0;34m(\u001b[0m\u001b[0mtime\u001b[0m\u001b[0;34m=\u001b[0m\u001b[0;34m[\u001b[0m\u001b[0;36m1.\u001b[0m\u001b[0;34m]\u001b[0m\u001b[0;34m,\u001b[0m\u001b[0mtype\u001b[0m\u001b[0;34m=\u001b[0m\u001b[0mry\u001b[0m\u001b[0;34m.\u001b[0m\u001b[0mOT\u001b[0m\u001b[0;34m.\u001b[0m\u001b[0meq\u001b[0m\u001b[0;34m,\u001b[0m \u001b[0mfeature\u001b[0m\u001b[0;34m=\u001b[0m\u001b[0mry\u001b[0m\u001b[0;34m.\u001b[0m\u001b[0mFS\u001b[0m\u001b[0;34m.\u001b[0m\u001b[0mscalarProductZZ\u001b[0m\u001b[0;34m,\u001b[0m \u001b[0mframes\u001b[0m\u001b[0;34m=\u001b[0m\u001b[0;34m[\u001b[0m\u001b[0;34m'object'\u001b[0m\u001b[0;34m,\u001b[0m \u001b[0;34m'R_gripperCenter'\u001b[0m\u001b[0;34m]\u001b[0m\u001b[0;34m,\u001b[0m \u001b[0mscale\u001b[0m\u001b[0;34m=\u001b[0m\u001b[0;34m[\u001b[0m\u001b[0;36m2e0\u001b[0m\u001b[0;34m]\u001b[0m\u001b[0;34m)\u001b[0m\u001b[0;34m\u001b[0m\u001b[0;34m\u001b[0m\u001b[0m\n\u001b[1;32m     13\u001b[0m \u001b[0;34m\u001b[0m\u001b[0m\n\u001b[0;32m---> 14\u001b[0;31m \u001b[0mkomo\u001b[0m\u001b[0;34m.\u001b[0m\u001b[0moptimize\u001b[0m\u001b[0;34m(\u001b[0m\u001b[0;34m)\u001b[0m\u001b[0;34m\u001b[0m\u001b[0;34m\u001b[0m\u001b[0m\n\u001b[0m",
      "\u001b[0;31mRuntimeError\u001b[0m: /home/mclovin/git/robotics-course/rai/rai/Geo/pairCollision.cpp:libccd:259(-2) simplex types 4 4 not handled"
     ]
    }
   ],
   "source": [
    "#grasping using path \n",
    "\n",
    "komo = C.komo_path(phases=1., stepsPerPhase=20, timePerPhase=5., useSwift=True);\n",
    "\n",
    "komo.addObjective([], ry.FS.accumulatedCollisions, [], ry.OT.eq);\n",
    "komo.addObjective([], ry.FS.jointLimits, [], ry.OT.ineq);\n",
    "komo.addObjective([1.], ry.FS.qItself, [], ry.OT.eq, [1.], order = 1)\n",
    "\n",
    "komo.addObjective(time=[1.],type=ry.OT.sos, feature=ry.FS.positionDiff, frames=[\"R_gripperCenter\", \"object\"], scale=[2e0])\n",
    "komo.addObjective(time=[1.],type=ry.OT.eq, feature=ry.FS.scalarProductXX, frames=['object', 'R_gripperCenter'], scale=[2e0])\n",
    "komo.addObjective(time=[1.],type=ry.OT.eq, feature=ry.FS.scalarProductYY, frames=['object', 'R_gripperCenter'], scale=[2e0])\n",
    "komo.addObjective(time=[1.],type=ry.OT.eq, feature=ry.FS.scalarProductZZ, frames=['object', 'R_gripperCenter'], scale=[2e0])\n",
    "\n",
    "komo.optimize()\n"
   ]
  },
  {
   "cell_type": "code",
   "execution_count": 7,
   "metadata": {},
   "outputs": [],
   "source": [
    "V2 = komo.view()\n",
    "V2.playVideo()"
   ]
  },
  {
   "cell_type": "code",
   "execution_count": 19,
   "metadata": {},
   "outputs": [],
   "source": [
    "V2=0\n",
    "V=0\n",
    "S=0\n",
    "C=0\n",
    "RealWorld=0"
   ]
  },
  {
   "cell_type": "code",
   "execution_count": 12,
   "metadata": {},
   "outputs": [
    {
     "name": "stdout",
     "output_type": "stream",
     "text": [
      "joint names:  ['L_panda_joint1', 'L_panda_joint2', 'L_panda_joint3', 'L_panda_joint4', 'L_panda_joint5', 'L_panda_joint6', 'L_panda_joint7', 'L_finger1', 'R_panda_joint1', 'R_panda_joint2', 'R_panda_joint3', 'R_panda_joint4', 'R_panda_joint5', 'R_panda_joint6', 'R_panda_joint7', 'R_finger1']\n"
     ]
    }
   ],
   "source": [
    "print('joint names: ', C.getJointNames() )"
   ]
  }
 ],
 "metadata": {
  "kernelspec": {
   "display_name": "Python 3",
   "language": "python",
   "name": "python3"
  },
  "language_info": {
   "codemirror_mode": {
    "name": "ipython",
    "version": 3
   },
   "file_extension": ".py",
   "mimetype": "text/x-python",
   "name": "python",
   "nbconvert_exporter": "python",
   "pygments_lexer": "ipython3",
   "version": "3.6.9"
  }
 },
 "nbformat": 4,
 "nbformat_minor": 2
}
