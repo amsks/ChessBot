{
 "cells": [
  {
   "cell_type": "code",
   "execution_count": 1,
   "metadata": {
    "scrolled": true
   },
   "outputs": [
    {
     "name": "stdout",
     "output_type": "stream",
     "text": [
      "4.2.0\n"
     ]
    }
   ],
   "source": [
    "import sys\n",
    "sys.path.append('../../build')\n",
    "import cv2 as cv\n",
    "import numpy as np\n",
    "import libry as ry\n",
    "import time\n",
    "print(cv.__version__)"
   ]
  },
  {
   "cell_type": "markdown",
   "metadata": {},
   "source": [
    "## Task 1\n",
    "\n",
    "1. Filter the color of the image to find all pixels that are redish\n",
    "2. Display the binary image that indicates red pixels.\n",
    "3. Fit contours to this binary image, which returns the segments.\n",
    "4. Display the contours by drawing them into the original RGB image"
   ]
  },
  {
   "cell_type": "code",
   "execution_count": null,
   "metadata": {},
   "outputs": [],
   "source": [
    "cap = cv.VideoCapture(0)\n",
    "\n",
    "while(1):\n",
    "    \n",
    "    #Take each frame \n",
    "    ret, frame = cap.read()\n",
    "    if frame is None:\n",
    "        break\n",
    "    \n",
    "    img_hsv=cv.cvtColor(frame, cv.COLOR_BGR2HSV)\n",
    "    \n",
    "    # lower mask (0-10)\n",
    "    lower_red = np.array([0,50,50])\n",
    "    upper_red = np.array([10,255,255])\n",
    "    mask0 = cv.inRange(img_hsv, lower_red, upper_red)\n",
    "\n",
    "    # upper mask (170-180)\n",
    "    lower_red = np.array([170,50,50])\n",
    "    upper_red = np.array([180,255,255])\n",
    "    mask1 = cv.inRange(img_hsv, lower_red, upper_red)\n",
    "\n",
    "    # join my masks\n",
    "    mask = mask0 + mask1\n",
    "    \n",
    "    # Bitwise-AND mask and original image\n",
    "#     res = cv2.bitwise_and(frame,frame, mask= mask)\n",
    "    \n",
    "    contours, hierarchy = cv.findContours(mask, cv.RETR_TREE, cv.CHAIN_APPROX_SIMPLE)\n",
    "    cv.drawContours(frame, contours, -1, (0,255,0), 1)\n",
    "    \n",
    "    cv.imshow('frame',frame)\n",
    "    cv.imshow('mask',mask)\n",
    "\n",
    "    if cv.waitKey(1) & 0xFF == ord('q'):\n",
    "        break"
   ]
  },
  {
   "cell_type": "markdown",
   "metadata": {},
   "source": [
    "## Task 2\n",
    "1. Store the first image as background image. (Or average over several first images.)\n",
    "2. For every new image filter those pixels, that are significantly different to the background.\n",
    "3. Display the binary image that indicates change pixels.\n",
    "4. Fit contours to this binary image, which returns the segments.\n",
    "5. Display the contours by drawing them into the original RGB image\n",
    "6. Test the same pipeline, but first smoothing/blurring the image"
   ]
  },
  {
   "cell_type": "code",
   "execution_count": null,
   "metadata": {},
   "outputs": [],
   "source": [
    "cap = cv.VideoCapture(0)\n",
    "ret, frame_1 = cap.read()\n",
    "\n",
    "while (1):\n",
    "    ret, frame = cap.read()\n",
    "    \n",
    "    # add noise as a reference\n",
    "    blur = cv.GaussianBlur(frame,(5,5),0)\n",
    "    median = cv.medianBlur(frame,5)\n",
    "    \n",
    "    diff = cv.absdiff(frame_1, blur)\n",
    "    diff_gray = cv.cvtColor(diff, cv.COLOR_BGR2GRAY)\n",
    "    \n",
    "    ret, threshold = cv.threshold(diff_gray,25,255,cv.THRESH_BINARY)\n",
    "    \n",
    "    contours, hierarchy = cv.findContours(threshold, cv.RETR_TREE, cv.CHAIN_APPROX_SIMPLE)\n",
    "    \n",
    "    cv.drawContours(frame, contours, -1, (0,255,0), 1)\n",
    "    \n",
    "    cv.imshow('frame',frame)\n",
    "    cv.imshow('blur',blur)\n",
    "    cv.imshow('difference', threshold)\n",
    "    \n",
    "    if cv.waitKey(1) & 0xFF == ord('q'):\n",
    "        break"
   ]
  },
  {
   "cell_type": "code",
   "execution_count": null,
   "metadata": {},
   "outputs": [],
   "source": [
    "# When everything done, release the capture\n",
    "cap.release()\n",
    "cv.destroyAllWindows()"
   ]
  }
 ],
 "metadata": {
  "kernelspec": {
   "display_name": "Python 3",
   "language": "python",
   "name": "python3"
  },
  "language_info": {
   "codemirror_mode": {
    "name": "ipython",
    "version": 3
   },
   "file_extension": ".py",
   "mimetype": "text/x-python",
   "name": "python",
   "nbconvert_exporter": "python",
   "pygments_lexer": "ipython3",
   "version": "3.6.9"
  }
 },
 "nbformat": 4,
 "nbformat_minor": 2
}
