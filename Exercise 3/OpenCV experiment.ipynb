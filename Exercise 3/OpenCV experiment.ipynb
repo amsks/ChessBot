{
 "cells": [
  {
   "cell_type": "code",
   "execution_count": null,
   "metadata": {
    "scrolled": false
   },
   "outputs": [],
   "source": [
    "import numpy as np\n",
    "import cv2\n",
    "import time"
   ]
  },
  {
   "cell_type": "code",
   "execution_count": null,
   "metadata": {},
   "outputs": [],
   "source": [
    "cap=cv2.VideoCapture(0)\n",
    "\n",
    "fourcc = cv2.VideoWriter_fourcc(*'XVID')\n",
    "out = cv2.VideoWriter('bakchodi.avi' , fourcc, 20.0, (640,480))\n",
    "time.sleep(2)\n",
    "background = 0  \n",
    "\n",
    "for i in range(30):\n",
    "    ret, background = cap.read()#capturing image\n",
    "\n",
    "while(cap.isOpened()):\n",
    "    ret, frame = cap.read()\n",
    "    \n",
    "    if not ret:\n",
    "        break\n",
    "        \n",
    "    hsv=cv2.cvtColor(frame, cv2.COLOR_BGR2HSV)\n",
    "    \n",
    "    lower_red = np.array([0,120,70])\n",
    "    upper_red = np.array([10,255,255])\n",
    "    mask1 = cv2.inRange(hsv , lower_red , upper_red)\n",
    "    \n",
    "    lower_red = np.array([160,120,70])\n",
    "    upper_red = np.array([180,255,255])\n",
    "    mask2 = cv2.inRange(hsv , lower_red , upper_red)\n",
    "    \n",
    "    mask1 = mask1 + mask2\n",
    "    \n",
    "    mask1=cv2.morphologyEx(mask1, cv2.MORPH_OPEN ,np.ones((3,3) , np.uint8) , iterations=2)\n",
    "        \n",
    "    mask2=cv2.morphologyEx(mask1, cv2.MORPH_DILATE ,np.ones((3,3) , np.uint8) , iterations=1)\n",
    "        \n",
    "    mask2 = cv2.bitwise_not(mask1)\n",
    "    \n",
    "    res1 = cv2.bitwise_and(background, background, mask=mask1)\n",
    "    res2 = cv2.bitwise_and(frame, frame, mask=mask2)\n",
    "    \n",
    "    final_output = cv2.addWeighted(res1 , 1, res2 , 1, 0)\n",
    "    \n",
    "    cv2.imshow('bakchodi' , final_output)\n",
    "    k=cv2.waitKey(10)\n",
    "    if k==27:\n",
    "        break"
   ]
  },
  {
   "cell_type": "code",
   "execution_count": null,
   "metadata": {},
   "outputs": [],
   "source": [
    "cap.release()\n",
    "cv2.destroyAllWindows()"
   ]
  },
  {
   "cell_type": "code",
   "execution_count": null,
   "metadata": {},
   "outputs": [],
   "source": []
  }
 ],
 "metadata": {
  "kernelspec": {
   "display_name": "Python 3",
   "language": "python",
   "name": "python3"
  },
  "language_info": {
   "codemirror_mode": {
    "name": "ipython",
    "version": 3
   },
   "file_extension": ".py",
   "mimetype": "text/x-python",
   "name": "python",
   "nbconvert_exporter": "python",
   "pygments_lexer": "ipython3",
   "version": "3.6.9"
  }
 },
 "nbformat": 4,
 "nbformat_minor": 2
}
