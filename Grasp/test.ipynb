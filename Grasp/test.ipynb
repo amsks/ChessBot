{
 "cells": [
  {
   "cell_type": "code",
   "execution_count": 1,
   "metadata": {},
   "outputs": [],
   "source": [
    "import sys\n",
    "from os.path import expanduser\n",
    "home = expanduser(\"~\")\n",
    "sys.path.append(home + '/git/robotics-course/build')\n",
    "\n",
    "import time\n",
    "import cv2\n",
    "import numpy as np\n",
    "import trio\n",
    "import libry as ry\n",
    "from multiprocessing import Process, Queue\n",
    "import logging, multiprocessing\n",
    "logger = multiprocessing.log_to_stderr()\n",
    "logger.setLevel(multiprocessing.SUBDEBUG)\n",
    "\n",
    "import robo_pkg.cv_lib as cl\n",
    "import robo_pkg.tf_lib as tf\n",
    "import robo_pkg.kalman_filter as kf\n",
    "\n",
    "from workspace import *"
   ]
  },
  {
   "cell_type": "code",
   "execution_count": null,
   "metadata": {},
   "outputs": [],
   "source": [
    "ws = Workspace()\n",
    "\n",
    "ws.run()"
   ]
  },
  {
   "cell_type": "code",
   "execution_count": null,
   "metadata": {},
   "outputs": [],
   "source": []
  },
  {
   "cell_type": "code",
   "execution_count": null,
   "metadata": {},
   "outputs": [],
   "source": []
  }
 ],
 "metadata": {
  "kernelspec": {
   "display_name": "Python 3",
   "language": "python",
   "name": "python3"
  },
  "language_info": {
   "codemirror_mode": {
    "name": "ipython",
    "version": 3
   },
   "file_extension": ".py",
   "mimetype": "text/x-python",
   "name": "python",
   "nbconvert_exporter": "python",
   "pygments_lexer": "ipython3",
   "version": "3.6.9"
  }
 },
 "nbformat": 4,
 "nbformat_minor": 2
}
